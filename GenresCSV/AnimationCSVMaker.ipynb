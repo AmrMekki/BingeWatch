{
 "cells": [
  {
   "cell_type": "code",
   "execution_count": 26,
   "metadata": {},
   "outputs": [],
   "source": [
    "import pandas as pd\n",
    "import os"
   ]
  },
  {
   "cell_type": "code",
   "execution_count": 27,
   "metadata": {},
   "outputs": [
    {
     "data": {
      "text/plain": [
       "(40108, 6)"
      ]
     },
     "execution_count": 27,
     "metadata": {},
     "output_type": "execute_result"
    }
   ],
   "source": [
    "data = pd.read_csv(\"../MovieGenre.csv\",encoding='latin1')\n",
    "data.shape"
   ]
  },
  {
   "cell_type": "code",
   "execution_count": 28,
   "metadata": {},
   "outputs": [
    {
     "data": {
      "text/html": [
       "<div>\n",
       "<style scoped>\n",
       "    .dataframe tbody tr th:only-of-type {\n",
       "        vertical-align: middle;\n",
       "    }\n",
       "\n",
       "    .dataframe tbody tr th {\n",
       "        vertical-align: top;\n",
       "    }\n",
       "\n",
       "    .dataframe thead th {\n",
       "        text-align: right;\n",
       "    }\n",
       "</style>\n",
       "<table border=\"1\" class=\"dataframe\">\n",
       "  <thead>\n",
       "    <tr style=\"text-align: right;\">\n",
       "      <th></th>\n",
       "      <th>imdbId</th>\n",
       "      <th>Imdb Link</th>\n",
       "      <th>Title</th>\n",
       "      <th>IMDB Score</th>\n",
       "      <th>Genre</th>\n",
       "      <th>Poster</th>\n",
       "    </tr>\n",
       "  </thead>\n",
       "  <tbody>\n",
       "    <tr>\n",
       "      <th>0</th>\n",
       "      <td>114709</td>\n",
       "      <td>http://www.imdb.com/title/tt114709</td>\n",
       "      <td>Toy Story (1995)</td>\n",
       "      <td>8.3</td>\n",
       "      <td>[Animation, Adventure, Comedy]</td>\n",
       "      <td>https://images-na.ssl-images-amazon.com/images...</td>\n",
       "    </tr>\n",
       "    <tr>\n",
       "      <th>1</th>\n",
       "      <td>113497</td>\n",
       "      <td>http://www.imdb.com/title/tt113497</td>\n",
       "      <td>Jumanji (1995)</td>\n",
       "      <td>6.9</td>\n",
       "      <td>[Action, Adventure, Family]</td>\n",
       "      <td>https://images-na.ssl-images-amazon.com/images...</td>\n",
       "    </tr>\n",
       "    <tr>\n",
       "      <th>2</th>\n",
       "      <td>113228</td>\n",
       "      <td>http://www.imdb.com/title/tt113228</td>\n",
       "      <td>Grumpier Old Men (1995)</td>\n",
       "      <td>6.6</td>\n",
       "      <td>[Comedy, Romance]</td>\n",
       "      <td>https://images-na.ssl-images-amazon.com/images...</td>\n",
       "    </tr>\n",
       "    <tr>\n",
       "      <th>3</th>\n",
       "      <td>114885</td>\n",
       "      <td>http://www.imdb.com/title/tt114885</td>\n",
       "      <td>Waiting to Exhale (1995)</td>\n",
       "      <td>5.7</td>\n",
       "      <td>[Comedy, Drama, Romance]</td>\n",
       "      <td>https://images-na.ssl-images-amazon.com/images...</td>\n",
       "    </tr>\n",
       "    <tr>\n",
       "      <th>4</th>\n",
       "      <td>113041</td>\n",
       "      <td>http://www.imdb.com/title/tt113041</td>\n",
       "      <td>Father of the Bride Part II (1995)</td>\n",
       "      <td>5.9</td>\n",
       "      <td>[Comedy, Family, Romance]</td>\n",
       "      <td>https://images-na.ssl-images-amazon.com/images...</td>\n",
       "    </tr>\n",
       "    <tr>\n",
       "      <th>...</th>\n",
       "      <td>...</td>\n",
       "      <td>...</td>\n",
       "      <td>...</td>\n",
       "      <td>...</td>\n",
       "      <td>...</td>\n",
       "      <td>...</td>\n",
       "    </tr>\n",
       "    <tr>\n",
       "      <th>40103</th>\n",
       "      <td>83168</td>\n",
       "      <td>http://www.imdb.com/title/tt83168</td>\n",
       "      <td>Tanya's Island (1980)</td>\n",
       "      <td>4.3</td>\n",
       "      <td>[Drama]</td>\n",
       "      <td>https://images-na.ssl-images-amazon.com/images...</td>\n",
       "    </tr>\n",
       "    <tr>\n",
       "      <th>40104</th>\n",
       "      <td>82875</td>\n",
       "      <td>http://www.imdb.com/title/tt82875</td>\n",
       "      <td>Pacific Banana (1981)</td>\n",
       "      <td>4.7</td>\n",
       "      <td>[Comedy]</td>\n",
       "      <td>https://images-na.ssl-images-amazon.com/images...</td>\n",
       "    </tr>\n",
       "    <tr>\n",
       "      <th>40105</th>\n",
       "      <td>815258</td>\n",
       "      <td>http://www.imdb.com/title/tt815258</td>\n",
       "      <td>Werewolf in a Womens Prison (2006)</td>\n",
       "      <td>4.5</td>\n",
       "      <td>[Horror]</td>\n",
       "      <td>https://images-na.ssl-images-amazon.com/images...</td>\n",
       "    </tr>\n",
       "    <tr>\n",
       "      <th>40106</th>\n",
       "      <td>79142</td>\n",
       "      <td>http://www.imdb.com/title/tt79142</td>\n",
       "      <td>Xiao zi ming da (1979)</td>\n",
       "      <td>6.5</td>\n",
       "      <td>[Action, Comedy]</td>\n",
       "      <td>https://images-na.ssl-images-amazon.com/images...</td>\n",
       "    </tr>\n",
       "    <tr>\n",
       "      <th>40107</th>\n",
       "      <td>70710</td>\n",
       "      <td>http://www.imdb.com/title/tt70710</td>\n",
       "      <td>Snatched (1973)</td>\n",
       "      <td>6.5</td>\n",
       "      <td>[Crime, Drama, Thriller]</td>\n",
       "      <td>NaN</td>\n",
       "    </tr>\n",
       "  </tbody>\n",
       "</table>\n",
       "<p>40108 rows × 6 columns</p>\n",
       "</div>"
      ],
      "text/plain": [
       "       imdbId                           Imdb Link  \\\n",
       "0      114709  http://www.imdb.com/title/tt114709   \n",
       "1      113497  http://www.imdb.com/title/tt113497   \n",
       "2      113228  http://www.imdb.com/title/tt113228   \n",
       "3      114885  http://www.imdb.com/title/tt114885   \n",
       "4      113041  http://www.imdb.com/title/tt113041   \n",
       "...       ...                                 ...   \n",
       "40103   83168   http://www.imdb.com/title/tt83168   \n",
       "40104   82875   http://www.imdb.com/title/tt82875   \n",
       "40105  815258  http://www.imdb.com/title/tt815258   \n",
       "40106   79142   http://www.imdb.com/title/tt79142   \n",
       "40107   70710   http://www.imdb.com/title/tt70710   \n",
       "\n",
       "                                    Title  IMDB Score  \\\n",
       "0                        Toy Story (1995)         8.3   \n",
       "1                          Jumanji (1995)         6.9   \n",
       "2                 Grumpier Old Men (1995)         6.6   \n",
       "3                Waiting to Exhale (1995)         5.7   \n",
       "4      Father of the Bride Part II (1995)         5.9   \n",
       "...                                   ...         ...   \n",
       "40103               Tanya's Island (1980)         4.3   \n",
       "40104               Pacific Banana (1981)         4.7   \n",
       "40105  Werewolf in a Womens Prison (2006)         4.5   \n",
       "40106              Xiao zi ming da (1979)         6.5   \n",
       "40107                     Snatched (1973)         6.5   \n",
       "\n",
       "                                Genre  \\\n",
       "0      [Animation, Adventure, Comedy]   \n",
       "1         [Action, Adventure, Family]   \n",
       "2                   [Comedy, Romance]   \n",
       "3            [Comedy, Drama, Romance]   \n",
       "4           [Comedy, Family, Romance]   \n",
       "...                               ...   \n",
       "40103                         [Drama]   \n",
       "40104                        [Comedy]   \n",
       "40105                        [Horror]   \n",
       "40106                [Action, Comedy]   \n",
       "40107        [Crime, Drama, Thriller]   \n",
       "\n",
       "                                                  Poster  \n",
       "0      https://images-na.ssl-images-amazon.com/images...  \n",
       "1      https://images-na.ssl-images-amazon.com/images...  \n",
       "2      https://images-na.ssl-images-amazon.com/images...  \n",
       "3      https://images-na.ssl-images-amazon.com/images...  \n",
       "4      https://images-na.ssl-images-amazon.com/images...  \n",
       "...                                                  ...  \n",
       "40103  https://images-na.ssl-images-amazon.com/images...  \n",
       "40104  https://images-na.ssl-images-amazon.com/images...  \n",
       "40105  https://images-na.ssl-images-amazon.com/images...  \n",
       "40106  https://images-na.ssl-images-amazon.com/images...  \n",
       "40107                                                NaN  \n",
       "\n",
       "[40108 rows x 6 columns]"
      ]
     },
     "execution_count": 28,
     "metadata": {},
     "output_type": "execute_result"
    }
   ],
   "source": [
    "data['Genre'] = data['Genre'].str.split('|')\n",
    "data"
   ]
  },
  {
   "cell_type": "code",
   "execution_count": 29,
   "metadata": {},
   "outputs": [
    {
     "data": {
      "text/plain": [
       "1"
      ]
     },
     "execution_count": 29,
     "metadata": {},
     "output_type": "execute_result"
    }
   ],
   "source": [
    "len(data['Genre'][40105])"
   ]
  },
  {
   "cell_type": "code",
   "execution_count": 30,
   "metadata": {},
   "outputs": [],
   "source": [
    "imdbID = []\n",
    "genre = []"
   ]
  },
  {
   "cell_type": "code",
   "execution_count": 31,
   "metadata": {},
   "outputs": [
    {
     "name": "stdout",
     "output_type": "stream",
     "text": [
      "86370 86370\n"
     ]
    }
   ],
   "source": [
    "for i in range(len(data)):\n",
    "    temp = data['Genre'][i]\n",
    "    try:\n",
    "        for j in range(len(temp)):\n",
    "            imdbID.append(data['imdbId'][i])\n",
    "            genre.append(data['Genre'][i][j])\n",
    "    except:\n",
    "        imdbID.append(data['imdbId'])\n",
    "        genre.append(data['Genre'])\n",
    "print(len(genre), len(imdbID))\n",
    "    "
   ]
  },
  {
   "cell_type": "code",
   "execution_count": 32,
   "metadata": {},
   "outputs": [
    {
     "data": {
      "text/plain": [
       "True"
      ]
     },
     "execution_count": 32,
     "metadata": {},
     "output_type": "execute_result"
    }
   ],
   "source": [
    "isinstance(genre[1], str)"
   ]
  },
  {
   "cell_type": "code",
   "execution_count": 34,
   "metadata": {},
   "outputs": [
    {
     "name": "stdout",
     "output_type": "stream",
     "text": [
      "86225 86225\n"
     ]
    }
   ],
   "source": [
    "for i in range(len(genre) -1, -1 , -1):\n",
    "    if not isinstance(genre[i],str):\n",
    "        imdbID.pop(i)\n",
    "        genre.pop(i)\n",
    "print(len(genre), len(imdbID))"
   ]
  },
  {
   "cell_type": "code",
   "execution_count": 37,
   "metadata": {},
   "outputs": [
    {
     "data": {
      "text/plain": [
       "109279"
      ]
     },
     "execution_count": 37,
     "metadata": {},
     "output_type": "execute_result"
    }
   ],
   "source": [
    "imdbID[1000]"
   ]
  },
  {
   "cell_type": "code",
   "execution_count": 39,
   "metadata": {},
   "outputs": [
    {
     "data": {
      "text/plain": [
       "True"
      ]
     },
     "execution_count": 39,
     "metadata": {},
     "output_type": "execute_result"
    }
   ],
   "source": [
    "os.path.exists(f\"../../Projects/BingeWatch/100x100/{imdbID[1]}.jpg\")"
   ]
  },
  {
   "cell_type": "code",
   "execution_count": 40,
   "metadata": {},
   "outputs": [
    {
     "name": "stdout",
     "output_type": "stream",
     "text": [
      "31330 31330\n"
     ]
    }
   ],
   "source": [
    "for i in range(len(genre)-1, -1, -1):\n",
    "    if not os.path.exists(f\"../../Projects/BingeWatch/100x100/{imdbID[i]}.jpg\"):\n",
    "        imdbID.pop(i)\n",
    "        genre.pop(i)\n",
    "print(len(genre), len(imdbID))"
   ]
  },
  {
   "cell_type": "code",
   "execution_count": 41,
   "metadata": {},
   "outputs": [
    {
     "data": {
      "text/plain": [
       "739"
      ]
     },
     "execution_count": 41,
     "metadata": {},
     "output_type": "execute_result"
    }
   ],
   "source": [
    "animation =[]\n",
    "for i in range(len(genre)):\n",
    "    if genre[i] == 'Animation':\n",
    "        animation.append(genre[i])\n",
    "len(animation)"
   ]
  },
  {
   "cell_type": "markdown",
   "metadata": {},
   "source": [
    "Now we have 1750 animation film"
   ]
  },
  {
   "cell_type": "markdown",
   "metadata": {},
   "source": [
    "see how many of them have posters here\n"
   ]
  },
  {
   "cell_type": "code",
   "execution_count": 18,
   "metadata": {},
   "outputs": [
    {
     "data": {
      "text/plain": [
       "114709"
      ]
     },
     "execution_count": 18,
     "metadata": {},
     "output_type": "execute_result"
    }
   ],
   "source": [
    "imdbID[1]"
   ]
  }
 ],
 "metadata": {
  "interpreter": {
   "hash": "847eb00be134a70790d40903388927ff584ec0e621cd5e12b3f023f70308bb0d"
  },
  "kernelspec": {
   "display_name": "Python 3.9.9 64-bit (windows store)",
   "language": "python",
   "name": "python3"
  },
  "language_info": {
   "codemirror_mode": {
    "name": "ipython",
    "version": 3
   },
   "file_extension": ".py",
   "mimetype": "text/x-python",
   "name": "python",
   "nbconvert_exporter": "python",
   "pygments_lexer": "ipython3",
   "version": "3.9.9"
  },
  "orig_nbformat": 4
 },
 "nbformat": 4,
 "nbformat_minor": 2
}
