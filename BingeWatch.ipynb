{
 "cells": [
  {
   "cell_type": "markdown",
   "metadata": {},
   "source": [
    "Now we have 14 model\n",
    "\n",
    "For this notebook we will put our picture through ALL the 14 model\n",
    "\n",
    "and we will then take the three highest (1's) valued models"
   ]
  },
  {
   "cell_type": "markdown",
   "metadata": {},
   "source": [
    "    by having a 2Darray that hold 14 models x [0 , 1] (softmax) "
   ]
  },
  {
   "cell_type": "markdown",
   "metadata": {},
   "source": [
    "function1(){\n",
    "    return arrayofVal.appended\n",
    "}\n",
    "\n",
    "function2(){\n",
    "    takes poster and turns it into np.array\n",
    "}\n",
    "\n",
    "function3(){\n",
    "    takes arrayOfVals\n",
    "    returns best three genres with their percentages\n",
    "}\n",
    "\n",
    "main(){\n",
    "input = poster\n",
    "\n",
    "function2(poster)\n",
    "arrayyofVals = []\n",
    "arrayofVals.append (function1(poster, comedy))\n",
    "function1(poster, action)\n",
    "function1(poster, horror)\n",
    "function1(poster, ...)\n",
    "function1(poster, ...)\n",
    "function1(poster, ...)\n",
    "function1(poster, 14...)\n",
    "\n",
    "\n",
    "function3()\n",
    "\n",
    "\n",
    "done :)\n",
    "\n",
    "\n",
    "}\n"
   ]
  },
  {
   "cell_type": "code",
   "execution_count": 44,
   "metadata": {},
   "outputs": [],
   "source": [
    "from PIL import Image\n",
    "import numpy as np\n",
    "from keras.layers import Dense, Conv2D, MaxPooling2D, Flatten, Dropout\n",
    "from keras.models import Sequential\n",
    "import numpy as np"
   ]
  },
  {
   "cell_type": "code",
   "execution_count": 45,
   "metadata": {},
   "outputs": [],
   "source": [
    "def PosterToArray(image):\n",
    "    poster = np.array(image)\n",
    "    poster = poster.astype('float32') / 255\n",
    "    return poster"
   ]
  },
  {
   "cell_type": "code",
   "execution_count": 46,
   "metadata": {},
   "outputs": [],
   "source": [
    "def PredictByModel(ourGenre, posterPath):\n",
    "\n",
    "    poster = Image.open(posterPath)\n",
    "    poster = poster.resize((100,100))\n",
    "    numPyPoster = PosterToArray(poster)\n",
    "    posterArray = [numPyPoster]\n",
    "    posterArray = np.array(posterArray) \n",
    "    checkpoint_path = f\"Weights/{ourGenre}/cp.ckpt\"\n",
    "\n",
    "    model = Sequential()\n",
    "    model.add(Conv2D(64, (3, 3), activation='relu', padding='same', input_shape=(100, 100, 3)))\n",
    "    model.add(MaxPooling2D((2, 2), padding='same'))\n",
    "    model.add(Conv2D(32, (3, 3), activation='relu', padding='same'))\n",
    "    model.add(MaxPooling2D((2, 2), padding='same'))\n",
    "    model.add(Flatten())\n",
    "    model.add(Dropout(0.2))\n",
    "    model.add(Dense(2, activation=\"softmax\"))\n",
    "    model.compile(optimizer='adam', loss='CategoricalCrossentropy', metrics=[\"accuracy\"])\n",
    "\n",
    "    model.load_weights(checkpoint_path).expect_partial()\n",
    "    \n",
    "    predicted = model.predict(posterArray)\n",
    "    return (predicted[0], ourGenre)\n",
    "    \n",
    "    "
   ]
  },
  {
   "cell_type": "code",
   "execution_count": 47,
   "metadata": {},
   "outputs": [],
   "source": [
    "def PredictAllModes(posterPath, allPredictions):\n",
    "    Genres = ['Action', 'Adventure', 'Biography', 'Comedy', 'Crime', 'Documentary', 'Drama', 'Family', 'Fantasy', 'Horror', 'Music', 'Mystery', 'Romance', 'Sci-Fi', 'Thriller']\n",
    "    for i in range(len(Genres)):\n",
    "        allPredictions.append(PredictByModel(Genres[i], posterPath, allPredictions))\n",
    "    return allPredictions"
   ]
  },
  {
   "cell_type": "code",
   "execution_count": 48,
   "metadata": {},
   "outputs": [],
   "source": [
    "def SortedGenres(allPredictions):\n",
    "    tempSort = []\n",
    "    for i in range(len(allPredictions)):\n",
    "        temp = [allPredictions[i][0][1] , allPredictions[i][1]]\n",
    "        tempSort.append(temp)\n",
    "    tempSort.sort()\n",
    "    tempSort.reverse()\n",
    "    return tempSort\n",
    "    "
   ]
  },
  {
   "cell_type": "code",
   "execution_count": 49,
   "metadata": {},
   "outputs": [
    {
     "data": {
      "text/plain": [
       "[(array([0.22555234, 0.7744477 ], dtype=float32), 'Action'),\n",
       " (array([0.49388504, 0.50611496], dtype=float32), 'Adventure'),\n",
       " (array([0.9744942 , 0.02550575], dtype=float32), 'Biography'),\n",
       " (array([0.4785818 , 0.52141815], dtype=float32), 'Comedy'),\n",
       " (array([0.65879846, 0.34120154], dtype=float32), 'Crime'),\n",
       " (array([0.76437545, 0.23562452], dtype=float32), 'Documentary'),\n",
       " (array([0.14763921, 0.85236084], dtype=float32), 'Drama'),\n",
       " (array([0.59234303, 0.40765694], dtype=float32), 'Family'),\n",
       " (array([0.2743163, 0.7256837], dtype=float32), 'Fantasy'),\n",
       " (array([0.80459017, 0.1954098 ], dtype=float32), 'Horror'),\n",
       " (array([0.36602312, 0.6339769 ], dtype=float32), 'Music'),\n",
       " (array([0.6455123, 0.3544877], dtype=float32), 'Mystery'),\n",
       " (array([0.61669767, 0.38330236], dtype=float32), 'Romance'),\n",
       " (array([0.13851997, 0.86148   ], dtype=float32), 'Sci-Fi'),\n",
       " (array([0.27430603, 0.725694  ], dtype=float32), 'Thriller')]"
      ]
     },
     "execution_count": 49,
     "metadata": {},
     "output_type": "execute_result"
    }
   ],
   "source": [
    "Genres = ['Action', 'Adventure', 'Biography', 'Comedy', 'Crime', 'Documentary', 'Drama', 'Family', 'Fantasy', 'Horror', 'Music', 'Mystery', 'Romance', 'Sci-Fi', 'Thriller']\n",
    "posterPath = f\"test1.jpg\"\n",
    "allPredictions = []\n",
    "for i in range(len(Genres)):\n",
    "    allPredictions.append(PredictByModel(Genres[i], posterPath))\n",
    "allPredictions"
   ]
  },
  {
   "cell_type": "code",
   "execution_count": 50,
   "metadata": {},
   "outputs": [
    {
     "name": "stdout",
     "output_type": "stream",
     "text": [
      "['Sci-Fi', 'Drama', 'Action']\n",
      "Genre1: Sci-Fi (86.15%)    Genre2: Drama (85.24%)    Genre3: Action(77.44%)\n"
     ]
    }
   ],
   "source": [
    "SortedArr=[]\n",
    "SortedArr= SortedGenres(allPredictions)\n",
    "Top3Arr=[] # will use later for prediction\n",
    "for i in range (3) :\n",
    "    Top3Arr.append(SortedArr[i][1])\n",
    "print(Top3Arr)\n",
    "print(f\"Genre1: {SortedArr[0][1]} ({np.round((SortedArr[0][0] * 100),2)}%)    Genre2: {SortedArr[1][1]} ({np.round(SortedArr[1][0] * 100,2)}%)    Genre3: {SortedArr[2][1]}({np.round(SortedArr[2][0] * 100,2)}%)\")\n"
   ]
  },
  {
   "cell_type": "code",
   "execution_count": null,
   "metadata": {},
   "outputs": [],
   "source": []
  }
 ],
 "metadata": {
  "interpreter": {
   "hash": "847eb00be134a70790d40903388927ff584ec0e621cd5e12b3f023f70308bb0d"
  },
  "kernelspec": {
   "display_name": "Python 3.9.9 64-bit (windows store)",
   "language": "python",
   "name": "python3"
  },
  "language_info": {
   "codemirror_mode": {
    "name": "ipython",
    "version": 3
   },
   "file_extension": ".py",
   "mimetype": "text/x-python",
   "name": "python",
   "nbconvert_exporter": "python",
   "pygments_lexer": "ipython3",
   "version": "3.9.8"
  },
  "orig_nbformat": 4
 },
 "nbformat": 4,
 "nbformat_minor": 2
}
