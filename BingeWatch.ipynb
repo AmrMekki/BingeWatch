{
 "cells": [
  {
   "cell_type": "code",
   "execution_count": 71,
   "metadata": {},
   "outputs": [
    {
     "name": "stdout",
     "output_type": "stream",
     "text": [
      "posix\n"
     ]
    }
   ],
   "source": [
    "from PIL import Image\n",
    "import numpy as np\n",
    "import matplotlib.pyplot as plt\n",
    "from keras.layers import Dense, Conv2D, MaxPooling2D, Flatten, Dropout\n",
    "from keras.models import Sequential\n",
    "import numpy as np\n",
    "from selenium import webdriver\n",
    "import platform\n",
    "import os\n"
   ]
  },
  {
   "cell_type": "code",
   "execution_count": 72,
   "metadata": {},
   "outputs": [],
   "source": [
    "def PosterToArray(image):\n",
    "    poster = np.array(image)\n",
    "    poster = poster.astype('float32') / 255\n",
    "    return poster"
   ]
  },
  {
   "cell_type": "code",
   "execution_count": 73,
   "metadata": {},
   "outputs": [],
   "source": [
    "def modelInit():\n",
    "    model = Sequential()\n",
    "    model.add(Conv2D(64, (3, 3), activation='relu', padding='same', input_shape=(100, 100, 3)))\n",
    "    model.add(MaxPooling2D((2, 2), padding='same'))\n",
    "    model.add(Conv2D(32, (3, 3), activation='relu', padding='same'))\n",
    "    model.add(MaxPooling2D((2, 2), padding='same'))\n",
    "    model.add(Flatten())\n",
    "    model.add(Dropout(0.2))\n",
    "    model.add(Dense(2, activation=\"softmax\"))\n",
    "    model.compile(optimizer='adam', loss='CategoricalCrossentropy', metrics=[\"accuracy\"])\n",
    "    return model"
   ]
  },
  {
   "cell_type": "code",
   "execution_count": 74,
   "metadata": {},
   "outputs": [],
   "source": [
    "def PredictByModel(ourGenre, posterArray, model):\n",
    "    checkpoint_path = f\"Weights/{ourGenre}/cp.ckpt\"\n",
    "    model.load_weights(checkpoint_path).expect_partial()\n",
    "    predicted = model.predict(posterArray)\n",
    "    return (predicted[0], ourGenre)\n",
    "    \n",
    "    "
   ]
  },
  {
   "cell_type": "code",
   "execution_count": 75,
   "metadata": {},
   "outputs": [],
   "source": [
    "def PredictAllModes(posterPath, model):\n",
    "    poster = Image.open(posterPath)\n",
    "    poster = poster.resize((100,100))\n",
    "    numPyPoster = PosterToArray(poster)\n",
    "    posterArray = [numPyPoster]\n",
    "    posterArray = np.array(posterArray) \n",
    "    \n",
    "    for i in range(len(Genres)):\n",
    "        allPredictions.append(PredictByModel(Genres[i], posterArray, model))\n"
   ]
  },
  {
   "cell_type": "code",
   "execution_count": 76,
   "metadata": {},
   "outputs": [],
   "source": [
    "def ThreeGenres():\n",
    "    tempSort = []\n",
    "    recommendedGenres=[]\n",
    "    for i in range(len(allPredictions)):\n",
    "        temp = [allPredictions[i][0][1] , allPredictions[i][1]]\n",
    "        tempSort.append(temp)\n",
    "    tempSort.sort()\n",
    "    tempSort.reverse()\n",
    "    print(\"Predicted by model:\")\n",
    "    print(f\"Genre1: {tempSort[0][1]} ({np.round((tempSort[0][0] * 100),2)}%)    Genre2: {tempSort[1][1]} ({np.round(tempSort[1][0] * 100,2)}%)    Genre3: {tempSort[2][1]}({np.round(tempSort[2][0] * 100,2)}%)\")\n",
    "    recommendedGenres.append(tempSort[0][1])\n",
    "    recommendedGenres.append(tempSort[1][1])\n",
    "    recommendedGenres.append(tempSort[2][1])\n",
    "    return recommendedGenres\n",
    "    "
   ]
  },
  {
   "cell_type": "code",
   "execution_count": 77,
   "metadata": {},
   "outputs": [],
   "source": [
    "def Selenium(URL, imgName):\n",
    "    if os.name == 'posix':\n",
    "        chromeDriverPATH = \"ChromeDriver/Mac\"\n",
    "    else :\n",
    "        chromeDriverPATH = \"ChromeDriver/Win.exe\"\n",
    "    \n",
    "    driver = webdriver.Chrome(chromeDriverPATH)\n",
    "    driver.get(URL)\n",
    "    S = lambda X: driver.execute_script('return document.body.parentNode.scroll'+X)\n",
    "    driver.set_window_size(S('Width'),S('Height'))                                                                                                                \n",
    "    driver.find_element_by_tag_name('body').screenshot(f'{imgName}.png')\n",
    "    driver.quit()"
   ]
  },
  {
   "cell_type": "code",
   "execution_count": 78,
   "metadata": {},
   "outputs": [
    {
     "name": "stdout",
     "output_type": "stream",
     "text": [
      "Predicted by model:\n",
      "Genre1: Documentary (99.78%)    Genre2: Drama (99.65%)    Genre3: Family(99.48%)\n"
     ]
    }
   ],
   "source": [
    "Genres = ['Action', 'Adventure', 'Biography', 'Comedy', 'Crime', 'Documentary', 'Drama', 'Family', 'Fantasy', 'Horror', 'Music', 'Mystery', 'Romance', 'Sci-Fi', 'Thriller']\n",
    "posterPath = \"TestImages/test6.jpg\"\n",
    "movieName = \"RedNotice\"\n",
    "movieName.replace(\" \",\"\") #MUST HAVE NO SPACES\n",
    "recommendedGenres = []\n",
    "allPredictions = []\n",
    "model = modelInit()\n",
    "PredictAllModes(posterPath, model)\n",
    "recommendedGenres = ThreeGenres()\n"
   ]
  },
  {
   "cell_type": "code",
   "execution_count": 79,
   "metadata": {},
   "outputs": [
    {
     "data": {
      "text/plain": [
       "['Documentary', 'Drama', 'Family']"
      ]
     },
     "execution_count": 79,
     "metadata": {},
     "output_type": "execute_result"
    }
   ],
   "source": [
    "# for debugging\n",
    "allPredictions\n",
    "recommendedGenres"
   ]
  },
  {
   "cell_type": "code",
   "execution_count": 80,
   "metadata": {},
   "outputs": [
    {
     "name": "stderr",
     "output_type": "stream",
     "text": [
      "/Applications/anaconda3/envs/neurons/lib/python3.7/site-packages/ipykernel_launcher.py:7: DeprecationWarning: executable_path has been deprecated, please pass in a Service object\n",
      "  import sys\n"
     ]
    },
    {
     "ename": "NoSuchWindowException",
     "evalue": "Message: no such window: target window already closed\nfrom unknown error: web view not found\n  (Session info: chrome=95.0.4638.54)\nStacktrace:\n0   Mac                                 0x000000010a51bc99 __gxx_personality_v0 + 579209\n1   Mac                                 0x000000010a4a75f3 __gxx_personality_v0 + 102371\n2   Mac                                 0x000000010a06d288 Mac + 172680\n3   Mac                                 0x000000010a04e164 Mac + 45412\n4   Mac                                 0x000000010a0c2c3c Mac + 523324\n5   Mac                                 0x000000010a0d150f Mac + 582927\n6   Mac                                 0x000000010a0bf693 Mac + 509587\n7   Mac                                 0x000000010a095b7e Mac + 338814\n8   Mac                                 0x000000010a096ea5 Mac + 343717\n9   Mac                                 0x000000010a4d777f __gxx_personality_v0 + 299375\n10  Mac                                 0x000000010a4ee68a __gxx_personality_v0 + 393338\n11  Mac                                 0x000000010a4f48eb __gxx_personality_v0 + 418523\n12  Mac                                 0x000000010a4efa2a __gxx_personality_v0 + 398362\n13  Mac                                 0x000000010a4cc34c __gxx_personality_v0 + 253244\n14  Mac                                 0x000000010a50bc48 __gxx_personality_v0 + 513592\n15  Mac                                 0x000000010a50bdd1 __gxx_personality_v0 + 513985\n16  Mac                                 0x000000010a5230c8 __gxx_personality_v0 + 608952\n17  libsystem_pthread.dylib             0x00007ff805786514 _pthread_start + 125\n18  libsystem_pthread.dylib             0x00007ff80578202f thread_start + 15\n",
     "output_type": "error",
     "traceback": [
      "\u001b[0;31m---------------------------------------------------------------------------\u001b[0m",
      "\u001b[0;31mNoSuchWindowException\u001b[0m                     Traceback (most recent call last)",
      "\u001b[0;32m/var/folders/14/w335m50952gcywsdkh__krl00000gn/T/ipykernel_7650/3374839553.py\u001b[0m in \u001b[0;36m<module>\u001b[0;34m\u001b[0m\n\u001b[1;32m      2\u001b[0m \u001b[0mURLrecommend\u001b[0m \u001b[0;34m=\u001b[0m \u001b[0;34mf\"https://www.imdb.com/search/title/?genres={recommendedGenres[0]},{recommendedGenres[1]},{recommendedGenres[2]}&explore=title_type,genres\"\u001b[0m\u001b[0;34m\u001b[0m\u001b[0;34m\u001b[0m\u001b[0m\n\u001b[1;32m      3\u001b[0m \u001b[0;34m\u001b[0m\u001b[0m\n\u001b[0;32m----> 4\u001b[0;31m \u001b[0mSelenium\u001b[0m\u001b[0;34m(\u001b[0m\u001b[0mrealGenreURL\u001b[0m\u001b[0;34m,\u001b[0m \u001b[0;34m'realGenre'\u001b[0m\u001b[0;34m)\u001b[0m\u001b[0;34m\u001b[0m\u001b[0;34m\u001b[0m\u001b[0m\n\u001b[0m\u001b[1;32m      5\u001b[0m \u001b[0mSelenium\u001b[0m\u001b[0;34m(\u001b[0m\u001b[0mURLrecommend\u001b[0m\u001b[0;34m,\u001b[0m \u001b[0;34m'recommendedMovies'\u001b[0m\u001b[0;34m)\u001b[0m\u001b[0;34m\u001b[0m\u001b[0;34m\u001b[0m\u001b[0m\n",
      "\u001b[0;32m/var/folders/14/w335m50952gcywsdkh__krl00000gn/T/ipykernel_7650/2456184521.py\u001b[0m in \u001b[0;36mSelenium\u001b[0;34m(URL, imgName)\u001b[0m\n\u001b[1;32m      8\u001b[0m     \u001b[0mdriver\u001b[0m\u001b[0;34m.\u001b[0m\u001b[0mget\u001b[0m\u001b[0;34m(\u001b[0m\u001b[0mURL\u001b[0m\u001b[0;34m)\u001b[0m\u001b[0;34m\u001b[0m\u001b[0;34m\u001b[0m\u001b[0m\n\u001b[1;32m      9\u001b[0m     \u001b[0mS\u001b[0m \u001b[0;34m=\u001b[0m \u001b[0;32mlambda\u001b[0m \u001b[0mX\u001b[0m\u001b[0;34m:\u001b[0m \u001b[0mdriver\u001b[0m\u001b[0;34m.\u001b[0m\u001b[0mexecute_script\u001b[0m\u001b[0;34m(\u001b[0m\u001b[0;34m'return document.body.parentNode.scroll'\u001b[0m\u001b[0;34m+\u001b[0m\u001b[0mX\u001b[0m\u001b[0;34m)\u001b[0m\u001b[0;34m\u001b[0m\u001b[0;34m\u001b[0m\u001b[0m\n\u001b[0;32m---> 10\u001b[0;31m     \u001b[0mdriver\u001b[0m\u001b[0;34m.\u001b[0m\u001b[0mset_window_size\u001b[0m\u001b[0;34m(\u001b[0m\u001b[0mS\u001b[0m\u001b[0;34m(\u001b[0m\u001b[0;34m'Width'\u001b[0m\u001b[0;34m)\u001b[0m\u001b[0;34m,\u001b[0m\u001b[0mS\u001b[0m\u001b[0;34m(\u001b[0m\u001b[0;34m'Height'\u001b[0m\u001b[0;34m)\u001b[0m\u001b[0;34m)\u001b[0m\u001b[0;34m\u001b[0m\u001b[0;34m\u001b[0m\u001b[0m\n\u001b[0m\u001b[1;32m     11\u001b[0m     \u001b[0mdriver\u001b[0m\u001b[0;34m.\u001b[0m\u001b[0mfind_element_by_tag_name\u001b[0m\u001b[0;34m(\u001b[0m\u001b[0;34m'body'\u001b[0m\u001b[0;34m)\u001b[0m\u001b[0;34m.\u001b[0m\u001b[0mscreenshot\u001b[0m\u001b[0;34m(\u001b[0m\u001b[0;34mf'{imgName}.png'\u001b[0m\u001b[0;34m)\u001b[0m\u001b[0;34m\u001b[0m\u001b[0;34m\u001b[0m\u001b[0m\n\u001b[1;32m     12\u001b[0m     \u001b[0mdriver\u001b[0m\u001b[0;34m.\u001b[0m\u001b[0mquit\u001b[0m\u001b[0;34m(\u001b[0m\u001b[0;34m)\u001b[0m\u001b[0;34m\u001b[0m\u001b[0;34m\u001b[0m\u001b[0m\n",
      "\u001b[0;32m/var/folders/14/w335m50952gcywsdkh__krl00000gn/T/ipykernel_7650/2456184521.py\u001b[0m in \u001b[0;36m<lambda>\u001b[0;34m(X)\u001b[0m\n\u001b[1;32m      7\u001b[0m     \u001b[0mdriver\u001b[0m \u001b[0;34m=\u001b[0m \u001b[0mwebdriver\u001b[0m\u001b[0;34m.\u001b[0m\u001b[0mChrome\u001b[0m\u001b[0;34m(\u001b[0m\u001b[0mchromeDriverPATH\u001b[0m\u001b[0;34m)\u001b[0m\u001b[0;34m\u001b[0m\u001b[0;34m\u001b[0m\u001b[0m\n\u001b[1;32m      8\u001b[0m     \u001b[0mdriver\u001b[0m\u001b[0;34m.\u001b[0m\u001b[0mget\u001b[0m\u001b[0;34m(\u001b[0m\u001b[0mURL\u001b[0m\u001b[0;34m)\u001b[0m\u001b[0;34m\u001b[0m\u001b[0;34m\u001b[0m\u001b[0m\n\u001b[0;32m----> 9\u001b[0;31m     \u001b[0mS\u001b[0m \u001b[0;34m=\u001b[0m \u001b[0;32mlambda\u001b[0m \u001b[0mX\u001b[0m\u001b[0;34m:\u001b[0m \u001b[0mdriver\u001b[0m\u001b[0;34m.\u001b[0m\u001b[0mexecute_script\u001b[0m\u001b[0;34m(\u001b[0m\u001b[0;34m'return document.body.parentNode.scroll'\u001b[0m\u001b[0;34m+\u001b[0m\u001b[0mX\u001b[0m\u001b[0;34m)\u001b[0m\u001b[0;34m\u001b[0m\u001b[0;34m\u001b[0m\u001b[0m\n\u001b[0m\u001b[1;32m     10\u001b[0m     \u001b[0mdriver\u001b[0m\u001b[0;34m.\u001b[0m\u001b[0mset_window_size\u001b[0m\u001b[0;34m(\u001b[0m\u001b[0mS\u001b[0m\u001b[0;34m(\u001b[0m\u001b[0;34m'Width'\u001b[0m\u001b[0;34m)\u001b[0m\u001b[0;34m,\u001b[0m\u001b[0mS\u001b[0m\u001b[0;34m(\u001b[0m\u001b[0;34m'Height'\u001b[0m\u001b[0;34m)\u001b[0m\u001b[0;34m)\u001b[0m\u001b[0;34m\u001b[0m\u001b[0;34m\u001b[0m\u001b[0m\n\u001b[1;32m     11\u001b[0m     \u001b[0mdriver\u001b[0m\u001b[0;34m.\u001b[0m\u001b[0mfind_element_by_tag_name\u001b[0m\u001b[0;34m(\u001b[0m\u001b[0;34m'body'\u001b[0m\u001b[0;34m)\u001b[0m\u001b[0;34m.\u001b[0m\u001b[0mscreenshot\u001b[0m\u001b[0;34m(\u001b[0m\u001b[0;34mf'{imgName}.png'\u001b[0m\u001b[0;34m)\u001b[0m\u001b[0;34m\u001b[0m\u001b[0;34m\u001b[0m\u001b[0m\n",
      "\u001b[0;32m/Applications/anaconda3/envs/neurons/lib/python3.7/site-packages/selenium/webdriver/remote/webdriver.py\u001b[0m in \u001b[0;36mexecute_script\u001b[0;34m(self, script, *args)\u001b[0m\n\u001b[1;32m    878\u001b[0m         return self.execute(command, {\n\u001b[1;32m    879\u001b[0m             \u001b[0;34m'script'\u001b[0m\u001b[0;34m:\u001b[0m \u001b[0mscript\u001b[0m\u001b[0;34m,\u001b[0m\u001b[0;34m\u001b[0m\u001b[0;34m\u001b[0m\u001b[0m\n\u001b[0;32m--> 880\u001b[0;31m             'args': converted_args})['value']\n\u001b[0m\u001b[1;32m    881\u001b[0m \u001b[0;34m\u001b[0m\u001b[0m\n\u001b[1;32m    882\u001b[0m     \u001b[0;32mdef\u001b[0m \u001b[0mexecute_async_script\u001b[0m\u001b[0;34m(\u001b[0m\u001b[0mself\u001b[0m\u001b[0;34m,\u001b[0m \u001b[0mscript\u001b[0m\u001b[0;34m:\u001b[0m \u001b[0mstr\u001b[0m\u001b[0;34m,\u001b[0m \u001b[0;34m*\u001b[0m\u001b[0margs\u001b[0m\u001b[0;34m)\u001b[0m\u001b[0;34m:\u001b[0m\u001b[0;34m\u001b[0m\u001b[0;34m\u001b[0m\u001b[0m\n",
      "\u001b[0;32m/Applications/anaconda3/envs/neurons/lib/python3.7/site-packages/selenium/webdriver/remote/webdriver.py\u001b[0m in \u001b[0;36mexecute\u001b[0;34m(self, driver_command, params)\u001b[0m\n\u001b[1;32m    422\u001b[0m         \u001b[0mresponse\u001b[0m \u001b[0;34m=\u001b[0m \u001b[0mself\u001b[0m\u001b[0;34m.\u001b[0m\u001b[0mcommand_executor\u001b[0m\u001b[0;34m.\u001b[0m\u001b[0mexecute\u001b[0m\u001b[0;34m(\u001b[0m\u001b[0mdriver_command\u001b[0m\u001b[0;34m,\u001b[0m \u001b[0mparams\u001b[0m\u001b[0;34m)\u001b[0m\u001b[0;34m\u001b[0m\u001b[0;34m\u001b[0m\u001b[0m\n\u001b[1;32m    423\u001b[0m         \u001b[0;32mif\u001b[0m \u001b[0mresponse\u001b[0m\u001b[0;34m:\u001b[0m\u001b[0;34m\u001b[0m\u001b[0;34m\u001b[0m\u001b[0m\n\u001b[0;32m--> 424\u001b[0;31m             \u001b[0mself\u001b[0m\u001b[0;34m.\u001b[0m\u001b[0merror_handler\u001b[0m\u001b[0;34m.\u001b[0m\u001b[0mcheck_response\u001b[0m\u001b[0;34m(\u001b[0m\u001b[0mresponse\u001b[0m\u001b[0;34m)\u001b[0m\u001b[0;34m\u001b[0m\u001b[0;34m\u001b[0m\u001b[0m\n\u001b[0m\u001b[1;32m    425\u001b[0m             response['value'] = self._unwrap_value(\n\u001b[1;32m    426\u001b[0m                 response.get('value', None))\n",
      "\u001b[0;32m/Applications/anaconda3/envs/neurons/lib/python3.7/site-packages/selenium/webdriver/remote/errorhandler.py\u001b[0m in \u001b[0;36mcheck_response\u001b[0;34m(self, response)\u001b[0m\n\u001b[1;32m    245\u001b[0m                 \u001b[0malert_text\u001b[0m \u001b[0;34m=\u001b[0m \u001b[0mvalue\u001b[0m\u001b[0;34m[\u001b[0m\u001b[0;34m'alert'\u001b[0m\u001b[0;34m]\u001b[0m\u001b[0;34m.\u001b[0m\u001b[0mget\u001b[0m\u001b[0;34m(\u001b[0m\u001b[0;34m'text'\u001b[0m\u001b[0;34m)\u001b[0m\u001b[0;34m\u001b[0m\u001b[0;34m\u001b[0m\u001b[0m\n\u001b[1;32m    246\u001b[0m             \u001b[0;32mraise\u001b[0m \u001b[0mexception_class\u001b[0m\u001b[0;34m(\u001b[0m\u001b[0mmessage\u001b[0m\u001b[0;34m,\u001b[0m \u001b[0mscreen\u001b[0m\u001b[0;34m,\u001b[0m \u001b[0mstacktrace\u001b[0m\u001b[0;34m,\u001b[0m \u001b[0malert_text\u001b[0m\u001b[0;34m)\u001b[0m  \u001b[0;31m# type: ignore[call-arg]  # mypy is not smart enough here\u001b[0m\u001b[0;34m\u001b[0m\u001b[0;34m\u001b[0m\u001b[0m\n\u001b[0;32m--> 247\u001b[0;31m         \u001b[0;32mraise\u001b[0m \u001b[0mexception_class\u001b[0m\u001b[0;34m(\u001b[0m\u001b[0mmessage\u001b[0m\u001b[0;34m,\u001b[0m \u001b[0mscreen\u001b[0m\u001b[0;34m,\u001b[0m \u001b[0mstacktrace\u001b[0m\u001b[0;34m)\u001b[0m\u001b[0;34m\u001b[0m\u001b[0;34m\u001b[0m\u001b[0m\n\u001b[0m\u001b[1;32m    248\u001b[0m \u001b[0;34m\u001b[0m\u001b[0m\n\u001b[1;32m    249\u001b[0m     \u001b[0;32mdef\u001b[0m \u001b[0m_value_or_default\u001b[0m\u001b[0;34m(\u001b[0m\u001b[0mself\u001b[0m\u001b[0;34m,\u001b[0m \u001b[0mobj\u001b[0m\u001b[0;34m:\u001b[0m \u001b[0mMapping\u001b[0m\u001b[0;34m[\u001b[0m\u001b[0m_KT\u001b[0m\u001b[0;34m,\u001b[0m \u001b[0m_VT\u001b[0m\u001b[0;34m]\u001b[0m\u001b[0;34m,\u001b[0m \u001b[0mkey\u001b[0m\u001b[0;34m:\u001b[0m \u001b[0m_KT\u001b[0m\u001b[0;34m,\u001b[0m \u001b[0mdefault\u001b[0m\u001b[0;34m:\u001b[0m \u001b[0m_VT\u001b[0m\u001b[0;34m)\u001b[0m \u001b[0;34m->\u001b[0m \u001b[0m_VT\u001b[0m\u001b[0;34m:\u001b[0m\u001b[0;34m\u001b[0m\u001b[0;34m\u001b[0m\u001b[0m\n",
      "\u001b[0;31mNoSuchWindowException\u001b[0m: Message: no such window: target window already closed\nfrom unknown error: web view not found\n  (Session info: chrome=95.0.4638.54)\nStacktrace:\n0   Mac                                 0x000000010a51bc99 __gxx_personality_v0 + 579209\n1   Mac                                 0x000000010a4a75f3 __gxx_personality_v0 + 102371\n2   Mac                                 0x000000010a06d288 Mac + 172680\n3   Mac                                 0x000000010a04e164 Mac + 45412\n4   Mac                                 0x000000010a0c2c3c Mac + 523324\n5   Mac                                 0x000000010a0d150f Mac + 582927\n6   Mac                                 0x000000010a0bf693 Mac + 509587\n7   Mac                                 0x000000010a095b7e Mac + 338814\n8   Mac                                 0x000000010a096ea5 Mac + 343717\n9   Mac                                 0x000000010a4d777f __gxx_personality_v0 + 299375\n10  Mac                                 0x000000010a4ee68a __gxx_personality_v0 + 393338\n11  Mac                                 0x000000010a4f48eb __gxx_personality_v0 + 418523\n12  Mac                                 0x000000010a4efa2a __gxx_personality_v0 + 398362\n13  Mac                                 0x000000010a4cc34c __gxx_personality_v0 + 253244\n14  Mac                                 0x000000010a50bc48 __gxx_personality_v0 + 513592\n15  Mac                                 0x000000010a50bdd1 __gxx_personality_v0 + 513985\n16  Mac                                 0x000000010a5230c8 __gxx_personality_v0 + 608952\n17  libsystem_pthread.dylib             0x00007ff805786514 _pthread_start + 125\n18  libsystem_pthread.dylib             0x00007ff80578202f thread_start + 15\n"
     ]
    }
   ],
   "source": [
    "realGenreURL = f\"https://www.google.com/search?q={movieName}+movie+genres&gl=us&hl=en\"\n",
    "URLrecommend = f\"https://www.imdb.com/search/title/?genres={recommendedGenres[0]},{recommendedGenres[1]},{recommendedGenres[2]}&explore=title_type,genres\"\n",
    "\n",
    "Selenium(realGenreURL, 'realGenre')\n",
    "Selenium(URLrecommend, 'recommendedMovies')"
   ]
  },
  {
   "cell_type": "code",
   "execution_count": null,
   "metadata": {},
   "outputs": [],
   "source": [
    "im = Image.open(posterPath)\n",
    "width, height = im.size # Size of the image in pixels (size of original image)\n",
    "plt.figure(figsize=(50, 10))\n",
    "plt.subplot(1, 3, 1)\n",
    "plt.imshow(im)\n",
    "plt.gray()\n",
    "plt.axis('off')\n",
    "plt.tight_layout()\n",
    "plt.title(\"Poster\", fontsize = 40)\n",
    "\n",
    "\n",
    "im2 = Image.open(\"realGenre.png\")\n",
    "width, height = im2.size # Size of the image in pixels (size of original image)\n",
    "im2 = im2.crop((0, 150, width - 400, height-290))\n",
    "# plt.figure(figsize=(50, 10))\n",
    "plt.subplot(1, 3, 2)\n",
    "plt.imshow(im2)\n",
    "plt.gray()\n",
    "plt.axis('off')\n",
    "plt.tight_layout()\n",
    "plt.title(\"Real Genres\", fontsize = 40)\n",
    "\n",
    "\n",
    "ThreeGenres()\n",
    "\n",
    "im3 = Image.open(\"recommendedMovies.png\")\n",
    "width, height = im3.size # Size of the image in pixels (size of original image)\n",
    "im3 = im3.crop((0, 60, width - 300, height))\n",
    "plt.figure(figsize=(70, 17))\n",
    "plt.subplot(2, 1, 1)\n",
    "plt.imshow(im3)\n",
    "plt.gray()\n",
    "plt.axis('off')\n",
    "plt.tight_layout()\n",
    "plt.title(\"Recommended Movies\", fontsize =30)\n",
    "plt.show()\n",
    "\n",
    "plt.show()\n",
    "\n"
   ]
  }
 ],
 "metadata": {
  "interpreter": {
   "hash": "847eb00be134a70790d40903388927ff584ec0e621cd5e12b3f023f70308bb0d"
  },
  "kernelspec": {
   "display_name": "Python 3.9.9 64-bit (windows store)",
   "language": "python",
   "name": "python3"
  },
  "language_info": {
   "codemirror_mode": {
    "name": "ipython",
    "version": 3
   },
   "file_extension": ".py",
   "mimetype": "text/x-python",
   "name": "python",
   "nbconvert_exporter": "python",
   "pygments_lexer": "ipython3",
   "version": "3.7.11"
  },
  "orig_nbformat": 4
 },
 "nbformat": 4,
 "nbformat_minor": 2
}
