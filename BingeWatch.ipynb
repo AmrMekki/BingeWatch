{
 "cells": [
  {
   "cell_type": "markdown",
   "metadata": {},
   "source": [
    "Now we have 14 model\n",
    "\n",
    "For this notebook we will put our picture through ALL the 14 model\n",
    "\n",
    "and we will then take the three highest (1's) valued models"
   ]
  },
  {
   "cell_type": "markdown",
   "metadata": {},
   "source": [
    "    by having a 2Darray that hold 14 models x [0 , 1] (softmax) "
   ]
  },
  {
   "cell_type": "markdown",
   "metadata": {},
   "source": [
    "function1(){\n",
    "    return arrayofVal.appended\n",
    "}\n",
    "\n",
    "function2(){\n",
    "    takes poster and turns it into np.array\n",
    "}\n",
    "\n",
    "function3(){\n",
    "    takes arrayOfVals\n",
    "    returns best three genres with their percentages\n",
    "}\n",
    "\n",
    "main(){\n",
    "input = poster\n",
    "\n",
    "function2(poster)\n",
    "arrayyofVals = []\n",
    "arrayofVals.append (function1(poster, comedy))\n",
    "function1(poster, action)\n",
    "function1(poster, horror)\n",
    "function1(poster, ...)\n",
    "function1(poster, ...)\n",
    "function1(poster, ...)\n",
    "function1(poster, 14...)\n",
    "\n",
    "\n",
    "function3()\n",
    "\n",
    "\n",
    "done :)\n",
    "\n",
    "\n",
    "}\n"
   ]
  },
  {
   "cell_type": "code",
   "execution_count": 62,
   "metadata": {},
   "outputs": [],
   "source": [
    "from PIL import Image\n",
    "import pandas as pd\n",
    "import numpy as np\n",
    "from keras.layers import Input, Dense, Conv2D, MaxPooling2D, UpSampling2D, Flatten, Dropout\n",
    "from keras.models import Sequential\n",
    "from keras.datasets import mnist\n",
    "from tensorflow.keras.utils import to_categorical\n",
    "import numpy as np\n",
    "import matplotlib.pyplot as plt\n",
    "from sklearn import preprocessing\n",
    "from sklearn.model_selection import train_test_split\n",
    "import os\n",
    "import tensorflow as tf\n",
    "from tensorflow import keras\n",
    "import imdb"
   ]
  },
  {
   "cell_type": "code",
   "execution_count": 63,
   "metadata": {},
   "outputs": [],
   "source": [
    "def PosterToArray(image):\n",
    "    poster = np.array(image)\n",
    "    poster = poster.astype('float32') / 255\n",
    "    return poster"
   ]
  },
  {
   "cell_type": "code",
   "execution_count": 64,
   "metadata": {},
   "outputs": [],
   "source": [
    "def PredictByModel(ourGenre, posterPath):\n",
    "\n",
    "    poster = Image.open(posterPath)\n",
    "    poster = poster.resize((100,100))\n",
    "    numPyPoster = PosterToArray(poster)\n",
    "    posterArray = [numPyPoster]\n",
    "    posterArray = np.array(posterArray) \n",
    "    checkpoint_path = f\"Weights/{ourGenre}/cp.ckpt\"\n",
    "\n",
    "    model = Sequential()\n",
    "    model.add(Conv2D(64, (3, 3), activation='relu', padding='same', input_shape=(100, 100, 3)))\n",
    "    model.add(MaxPooling2D((2, 2), padding='same'))\n",
    "    model.add(Conv2D(32, (3, 3), activation='relu', padding='same'))\n",
    "    model.add(MaxPooling2D((2, 2), padding='same'))\n",
    "    model.add(Flatten())\n",
    "    model.add(Dropout(0.2))\n",
    "    model.add(Dense(2, activation=\"softmax\"))\n",
    "    model.compile(optimizer='adam', loss='CategoricalCrossentropy', metrics=[\"accuracy\"])\n",
    "\n",
    "    model.load_weights(checkpoint_path).expect_partial()\n",
    "    \n",
    "    predicted = model.predict(posterArray)\n",
    "    return (predicted[0], ourGenre)\n",
    "    \n",
    "    "
   ]
  },
  {
   "cell_type": "code",
   "execution_count": 65,
   "metadata": {},
   "outputs": [],
   "source": [
    "def PredictAllModes(posterPath, allPredictions):\n",
    "    Genres = ['Action', 'Adventure', 'Biography', 'Comedy', 'Crime', 'Documentary', 'Drama', 'Family', 'Fantasy', 'Horror', 'Music', 'Mystery', 'Romance', 'Sci-Fi', 'Thriller']\n",
    "    for i in range(len(Genres)):\n",
    "        allPredictions.append(PredictByModel(Genres[i], posterPath, allPredictions))\n",
    "    return allPredictions"
   ]
  },
  {
   "cell_type": "code",
   "execution_count": 66,
   "metadata": {},
   "outputs": [],
   "source": [
    "recommendedGenres = []"
   ]
  },
  {
   "cell_type": "code",
   "execution_count": 67,
   "metadata": {},
   "outputs": [],
   "source": [
    "def ThreeGenres(allPredictions):\n",
    "    tempSort = []\n",
    "    \n",
    "    for i in range(len(allPredictions)):\n",
    "        temp = [allPredictions[i][0][1] , allPredictions[i][1]]\n",
    "        tempSort.append(temp)\n",
    "    tempSort.sort()\n",
    "    tempSort.reverse()\n",
    "    print(f\"Genre1: {tempSort[0][1]} ({np.round((tempSort[0][0] * 100),2)}%)    Genre2: {tempSort[1][1]} ({np.round(tempSort[1][0] * 100,2)}%)    Genre3: {tempSort[2][1]}({np.round(tempSort[2][0] * 100,2)}%)\")\n",
    "    recommendedGenres.append(tempSort[0][1])\n",
    "    recommendedGenres.append(tempSort[1][1])\n",
    "    recommendedGenres.append(tempSort[2][1])\n",
    "    "
   ]
  },
  {
   "cell_type": "code",
   "execution_count": 68,
   "metadata": {},
   "outputs": [
    {
     "data": {
      "text/plain": [
       "[(array([0.3480003, 0.6519998], dtype=float32), 'Action'),\n",
       " (array([0.1012907 , 0.89870924], dtype=float32), 'Adventure'),\n",
       " (array([0.09391142, 0.9060886 ], dtype=float32), 'Biography'),\n",
       " (array([0.14327492, 0.85672504], dtype=float32), 'Comedy'),\n",
       " (array([0.31716082, 0.6828392 ], dtype=float32), 'Crime'),\n",
       " (array([0.02813013, 0.9718698 ], dtype=float32), 'Documentary'),\n",
       " (array([0.06563267, 0.93436736], dtype=float32), 'Drama'),\n",
       " (array([0.26021093, 0.73978907], dtype=float32), 'Family'),\n",
       " (array([0.20410341, 0.79589653], dtype=float32), 'Fantasy'),\n",
       " (array([0.79623663, 0.20376335], dtype=float32), 'Horror'),\n",
       " (array([0.4233404, 0.5766597], dtype=float32), 'Music'),\n",
       " (array([0.6789192 , 0.32108083], dtype=float32), 'Mystery'),\n",
       " (array([0.10365506, 0.8963449 ], dtype=float32), 'Romance'),\n",
       " (array([0.26879928, 0.7312007 ], dtype=float32), 'Sci-Fi'),\n",
       " (array([0.5137334 , 0.48626658], dtype=float32), 'Thriller')]"
      ]
     },
     "execution_count": 68,
     "metadata": {},
     "output_type": "execute_result"
    }
   ],
   "source": [
    "Genres = ['Action', 'Adventure', 'Biography', 'Comedy', 'Crime', 'Documentary', 'Drama', 'Family', 'Fantasy', 'Horror', 'Music', 'Mystery', 'Romance', 'Sci-Fi', 'Thriller']\n",
    "posterPath = f\"test6.jpg\"\n",
    "allPredictions = []\n",
    "for i in range(len(Genres)):\n",
    "    allPredictions.append(PredictByModel(Genres[i], posterPath))\n",
    "allPredictions"
   ]
  },
  {
   "cell_type": "code",
   "execution_count": 69,
   "metadata": {},
   "outputs": [
    {
     "name": "stdout",
     "output_type": "stream",
     "text": [
      "Genre1: Documentary (97.19%)    Genre2: Drama (93.44%)    Genre3: Biography(90.61%)\n"
     ]
    }
   ],
   "source": [
    "ThreeGenres(allPredictions)\n"
   ]
  },
  {
   "cell_type": "code",
   "execution_count": 70,
   "metadata": {},
   "outputs": [
    {
     "name": "stdout",
     "output_type": "stream",
     "text": [
      "Searching for another Drama movie? try The Shawshank Redemption.\n",
      "Searching for another Biography movie? try Schindler's List.\n",
      "Searching for another Drama movie? try Fight Club.\n",
      "Searching for another Drama movie? try Forrest Gump.\n",
      "Searching for another Biography movie? try Goodfellas.\n",
      "Searching for another Drama movie? try One Flew Over the Cuckoo's Nest.\n"
     ]
    }
   ],
   "source": [
    "movies = imdb.IMDb()\n",
    "top250 = movies.get_top250_movies()\n",
    " #recommendedGenres.append(\"Crime\")\n",
    "\n",
    "# the first 20 movies in the top 250\n",
    "for movie_count in range(0, 20):\n",
    "    \n",
    "    movie = movies.get_movie(top250[movie_count].movieID)\n",
    "    genre = movie['genres'][0]\n",
    "    \n",
    "    \n",
    "    if genre in recommendedGenres:\n",
    "        title = movie['title']\n",
    "    \n",
    "        print(f\"Searching for another {genre} movie? try {title}.\")\n",
    "        "
   ]
  }
 ],
 "metadata": {
  "interpreter": {
   "hash": "847eb00be134a70790d40903388927ff584ec0e621cd5e12b3f023f70308bb0d"
  },
  "kernelspec": {
   "display_name": "Python 3.9.9 64-bit (windows store)",
   "language": "python",
   "name": "python3"
  },
  "language_info": {
   "codemirror_mode": {
    "name": "ipython",
    "version": 3
   },
   "file_extension": ".py",
   "mimetype": "text/x-python",
   "name": "python",
   "nbconvert_exporter": "python",
   "pygments_lexer": "ipython3",
   "version": "3.7.11"
  },
  "orig_nbformat": 4
 },
 "nbformat": 4,
 "nbformat_minor": 2
}
