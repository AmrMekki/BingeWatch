{
 "cells": [
  {
   "cell_type": "code",
   "execution_count": null,
   "metadata": {},
   "outputs": [],
   "source": [
    "from PIL import Image\n",
    "import numpy as np\n",
    "import matplotlib.pyplot as plt\n",
    "from keras.layers import Dense, Conv2D, MaxPooling2D, Flatten, Dropout\n",
    "from keras.models import Sequential\n",
    "import numpy as np\n",
    "from selenium import webdriver\n",
    "import platform\n",
    "import os\n"
   ]
  },
  {
   "cell_type": "code",
   "execution_count": null,
   "metadata": {},
   "outputs": [],
   "source": [
    "def PosterToArray(image):\n",
    "    poster = np.array(image)\n",
    "    poster = poster.astype('float32') / 255\n",
    "    return poster"
   ]
  },
  {
   "cell_type": "code",
   "execution_count": null,
   "metadata": {},
   "outputs": [],
   "source": [
    "def modelInit():\n",
    "    model = Sequential()\n",
    "    model.add(Conv2D(64, (3, 3), activation='relu', padding='same', input_shape=(100, 100, 3)))\n",
    "    model.add(MaxPooling2D((2, 2), padding='same'))\n",
    "    model.add(Conv2D(32, (3, 3), activation='relu', padding='same'))\n",
    "    model.add(MaxPooling2D((2, 2), padding='same'))\n",
    "    model.add(Flatten())\n",
    "    model.add(Dropout(0.2))\n",
    "    model.add(Dense(2, activation=\"softmax\"))\n",
    "    model.compile(optimizer='adam', loss='CategoricalCrossentropy', metrics=[\"accuracy\"])\n",
    "    return model"
   ]
  },
  {
   "cell_type": "code",
   "execution_count": null,
   "metadata": {},
   "outputs": [],
   "source": [
    "def PredictByModel(ourGenre, posterArray, model):\n",
    "    checkpoint_path = f\"Weights/{ourGenre}/cp.ckpt\"\n",
    "    model.load_weights(checkpoint_path).expect_partial()\n",
    "    predicted = model.predict(posterArray)\n",
    "    return (predicted[0], ourGenre)\n",
    "    \n",
    "    "
   ]
  },
  {
   "cell_type": "code",
   "execution_count": null,
   "metadata": {},
   "outputs": [],
   "source": [
    "def PredictAllModes(posterPath, model):\n",
    "    poster = Image.open(posterPath)\n",
    "    poster = poster.resize((100,100))\n",
    "    numPyPoster = PosterToArray(poster)\n",
    "    posterArray = [numPyPoster]\n",
    "    posterArray = np.array(posterArray) \n",
    "    \n",
    "    for i in range(len(Genres)):\n",
    "        allPredictions.append(PredictByModel(Genres[i], posterArray, model))\n"
   ]
  },
  {
   "cell_type": "code",
   "execution_count": null,
   "metadata": {},
   "outputs": [],
   "source": [
    "def ThreeGenres():\n",
    "    tempSort = []\n",
    "    recommendedGenres=[]\n",
    "    for i in range(len(allPredictions)):\n",
    "        temp = [allPredictions[i][0][1] , allPredictions[i][1]]\n",
    "        tempSort.append(temp)\n",
    "    tempSort.sort()\n",
    "    tempSort.reverse()\n",
    "    print(\"Predicted by model:\")\n",
    "    print(f\"Genre1: {tempSort[0][1]} ({np.round((tempSort[0][0] * 100),2)}%)    Genre2: {tempSort[1][1]} ({np.round(tempSort[1][0] * 100,2)}%)    Genre3: {tempSort[2][1]}({np.round(tempSort[2][0] * 100,2)}%)\")\n",
    "    recommendedGenres.append(tempSort[0][1])\n",
    "    recommendedGenres.append(tempSort[1][1])\n",
    "    recommendedGenres.append(tempSort[2][1])\n",
    "    return recommendedGenres\n",
    "    "
   ]
  },
  {
   "cell_type": "code",
   "execution_count": null,
   "metadata": {},
   "outputs": [],
   "source": [
    "def Selenium(URL, imgName):\n",
    "    if os.name == 'posix':\n",
    "        chromeDriverPATH = \"ChromeDriver/Mac\"\n",
    "    else :\n",
    "        chromeDriverPATH = \"ChromeDriver/Win.exe\"\n",
    "    \n",
    "    driver = webdriver.Chrome(chromeDriverPATH)\n",
    "    driver.get(URL)\n",
    "    S = lambda X: driver.execute_script('return document.body.parentNode.scroll'+X)\n",
    "    driver.set_window_size(S('Width'),S('Height'))                                                                                                                \n",
    "    driver.find_element_by_tag_name('body').screenshot(f'{imgName}.png')\n",
    "    driver.quit()"
   ]
  },
  {
   "cell_type": "code",
   "execution_count": null,
   "metadata": {},
   "outputs": [],
   "source": [
    "Genres = ['Action', 'Adventure', 'Biography', 'Comedy', 'Crime', 'Documentary', 'Drama', 'Family', 'Fantasy', 'Horror', 'Music', 'Mystery', 'Romance', 'Sci-Fi', 'Thriller']\n",
    "posterPath = \"TestImages/test6.jpg\"\n",
    "movieName = \"RedNotice\"\n",
    "movieName.replace(\" \",\"\") #MUST HAVE NO SPACES\n",
    "recommendedGenres = []\n",
    "allPredictions = []\n",
    "model = modelInit()\n",
    "PredictAllModes(posterPath, model)\n",
    "recommendedGenres = ThreeGenres()\n"
   ]
  },
  {
   "cell_type": "code",
   "execution_count": null,
   "metadata": {},
   "outputs": [],
   "source": [
    "# for debugging\n",
    "allPredictions\n",
    "recommendedGenres"
   ]
  },
  {
   "cell_type": "code",
   "execution_count": null,
   "metadata": {},
   "outputs": [],
   "source": [
    "realGenreURL = f\"https://www.google.com/search?q={movieName}+movie+genres&gl=us&hl=en\"\n",
    "URLrecommend = f\"https://www.imdb.com/search/title/?genres={recommendedGenres[0]},{recommendedGenres[1]},{recommendedGenres[2]}&explore=title_type,genres\"\n",
    "\n",
    "Selenium(realGenreURL, 'realGenre')\n",
    "Selenium(URLrecommend, 'recommendedMovies')"
   ]
  },
  {
   "cell_type": "code",
   "execution_count": null,
   "metadata": {},
   "outputs": [],
   "source": [
    "im = Image.open(posterPath)\n",
    "width, height = im.size # Size of the image in pixels (size of original image)\n",
    "plt.figure(figsize=(50, 10))\n",
    "plt.subplot(1, 3, 1)\n",
    "plt.imshow(im)\n",
    "plt.gray()\n",
    "plt.axis('off')\n",
    "plt.tight_layout()\n",
    "plt.title(\"Poster\", fontsize = 40)\n",
    "\n",
    "\n",
    "im2 = Image.open(\"realGenre.png\")\n",
    "width, height = im2.size # Size of the image in pixels (size of original image)\n",
    "im2 = im2.crop((0, 150, width - 400, height-290))\n",
    "# plt.figure(figsize=(50, 10))\n",
    "plt.subplot(1, 3, 2)\n",
    "plt.imshow(im2)\n",
    "plt.gray()\n",
    "plt.axis('off')\n",
    "plt.tight_layout()\n",
    "plt.title(\"Real Genres\", fontsize = 40)\n",
    "\n",
    "\n",
    "ThreeGenres()\n",
    "\n",
    "im3 = Image.open(\"recommendedMovies.png\")\n",
    "width, height = im3.size # Size of the image in pixels (size of original image)\n",
    "im3 = im3.crop((0, 60, width - 300, height))\n",
    "plt.figure(figsize=(70, 17))\n",
    "plt.subplot(2, 1, 1)\n",
    "plt.imshow(im3)\n",
    "plt.gray()\n",
    "plt.axis('off')\n",
    "plt.tight_layout()\n",
    "plt.title(\"Recommended Movies\", fontsize =30)\n",
    "plt.show()\n",
    "\n",
    "plt.show()\n",
    "\n"
   ]
  }
 ],
 "metadata": {
  "interpreter": {
   "hash": "847eb00be134a70790d40903388927ff584ec0e621cd5e12b3f023f70308bb0d"
  },
  "kernelspec": {
   "display_name": "Python 3.9.9 64-bit (windows store)",
   "language": "python",
   "name": "python3"
  },
  "language_info": {
   "codemirror_mode": {
    "name": "ipython",
    "version": 3
   },
   "file_extension": ".py",
   "mimetype": "text/x-python",
   "name": "python",
   "nbconvert_exporter": "python",
   "pygments_lexer": "ipython3",
   "version": "3.7.11"
  },
  "orig_nbformat": 4
 },
 "nbformat": 4,
 "nbformat_minor": 2
}
