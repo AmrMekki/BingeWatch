{
 "cells": [
  {
   "cell_type": "markdown",
   "metadata": {},
   "source": [
    "Now we have 14 model\n",
    "\n",
    "For this notebook we will put our picture through ALL the 14 model\n",
    "\n",
    "and we will then take the three highest (1's) valued models"
   ]
  },
  {
   "cell_type": "markdown",
   "metadata": {},
   "source": [
    "    by having a 2Darray that hold 14 models x [0 , 1] (softmax) "
   ]
  },
  {
   "cell_type": "markdown",
   "metadata": {},
   "source": [
    "function1(){\n",
    "    return arrayofVal.appended\n",
    "}\n",
    "\n",
    "function2(){\n",
    "    takes poster and turns it into np.array\n",
    "}\n",
    "\n",
    "function3(){\n",
    "    takes arrayOfVals\n",
    "    returns best three genres with their percentages\n",
    "}\n",
    "\n",
    "main(){\n",
    "input = poster\n",
    "\n",
    "function2(poster)\n",
    "arrayyofVals = []\n",
    "arrayofVals.append (function1(poster, comedy))\n",
    "function1(poster, action)\n",
    "function1(poster, horror)\n",
    "function1(poster, ...)\n",
    "function1(poster, ...)\n",
    "function1(poster, ...)\n",
    "function1(poster, 14...)\n",
    "\n",
    "\n",
    "function3()\n",
    "\n",
    "\n",
    "done :)\n",
    "\n",
    "\n",
    "}\n"
   ]
  },
  {
   "cell_type": "code",
   "execution_count": 1,
   "metadata": {},
   "outputs": [],
   "source": [
    "from PIL import Image\n",
    "import pandas as pd\n",
    "import numpy as np\n",
    "from keras.layers import Input, Dense, Conv2D, MaxPooling2D, UpSampling2D, Flatten, Dropout\n",
    "from keras.models import Sequential\n",
    "from keras.datasets import mnist\n",
    "from tensorflow.keras.utils import to_categorical\n",
    "import numpy as np\n",
    "import matplotlib.pyplot as plt\n",
    "from sklearn import preprocessing\n",
    "from sklearn.model_selection import train_test_split\n",
    "import os\n",
    "import tensorflow as tf\n",
    "from tensorflow import keras"
   ]
  },
  {
   "cell_type": "code",
   "execution_count": 21,
   "metadata": {},
   "outputs": [],
   "source": [
    "poster = []"
   ]
  },
  {
   "cell_type": "code",
   "execution_count": 27,
   "metadata": {},
   "outputs": [
    {
     "data": {
      "image/png": "[encoded data removed]",
      "text/plain": [
       "<PIL.JpegImagePlugin.JpegImageFile image mode=RGB size=100x100 at 0x1922727E280>"
      ]
     },
     "execution_count": 27,
     "metadata": {},
     "output_type": "execute_result"
    }
   ],
   "source": [
    "poster = Image.open(f\"Posters100x100/tt0079285.jpg\")\n",
    "poster"
   ]
  },
  {
   "cell_type": "code",
   "execution_count": 31,
   "metadata": {},
   "outputs": [],
   "source": [
    "def PosterToArray(image):\n",
    "    poster = np.array(image)\n",
    "    poster = poster.astype('float32') / 255\n",
    "    return poster"
   ]
  },
  {
   "cell_type": "code",
   "execution_count": 32,
   "metadata": {},
   "outputs": [],
   "source": [
    "def PredictByModel(ourGenre, numPyPoster, allPredictions):\n",
    "    checkpoint_path = f\"Weights/{ourGenre}/cp.ckpt\"\n",
    "\n",
    "    model = Sequential()\n",
    "    model.add(Conv2D(64, (3, 3), activation='relu', padding='same', input_shape=(100, 100, 3)))\n",
    "    model.add(MaxPooling2D((2, 2), padding='same'))\n",
    "    model.add(Conv2D(32, (3, 3), activation='relu', padding='same'))\n",
    "    model.add(MaxPooling2D((2, 2), padding='same'))\n",
    "    model.add(Flatten())\n",
    "    model.add(Dropout(0.2))\n",
    "    model.add(Dense(2, activation=\"softmax\"))\n",
    "    model.compile(optimizer='adam', loss='CategoricalCrossentropy', metrics=[\"accuracy\"])\n",
    "\n",
    "    model.load_weights(checkpoint_path)\n",
    "\n",
    "    predicted = model.predict(numPyPoster)\n",
    "    print(allPredictions)\n",
    "    return allPredictions.append([predicted, ourGenre])\n",
    "    "
   ]
  },
  {
   "cell_type": "markdown",
   "metadata": {},
   "source": [
    "array = [ \n",
    "    [0,0.99], Comedy,\n",
    "[0,0.01], Animation,\n",
    "[0,0.1], Drama,\n",
    "[0,0.7], Biography,\n",
    "[0,0.6], Thriller,\n",
    "[0,0.2], Horror,\n",
    "[0,0.3], Action,\n",
    "\n",
    "]\n",
    "\n",
    ".sort\n",
    "\n",
    "array = [ \n",
    "    [0,0.99], Comedy,\n",
    "[0,0.7], Biography,\n",
    "[0,0.6], Thriller,\n",
    "[0,0.3], Action,\n",
    "[0,0.2], Horror,\n",
    "[0,0.1], Drama,\n",
    "[0,0.01], Animation,\n",
    "\n",
    "]"
   ]
  },
  {
   "cell_type": "code",
   "execution_count": 44,
   "metadata": {},
   "outputs": [],
   "source": [
    "def ThreeGenres(allPredictions):\n",
    "    tempSort = []\n",
    "    for i in range(len(allPredictions)):\n",
    "        temp = [allPredictions[i][0][1] , allPredictions[i][1]]\n",
    "        tempSort.append(temp)\n",
    "    tempSort.sort()\n",
    "    tempSort.reverse()\n",
    "    print(f\"Genre1: {tempSort[0][1]}    Genre2: {tempSort[1][1]}    Genre3: {tempSort[2][1]}\")\n",
    "    \n",
    "    "
   ]
  },
  {
   "cell_type": "code",
   "execution_count": null,
   "metadata": {},
   "outputs": [],
   "source": []
  }
 ],
 "metadata": {
  "interpreter": {
   "hash": "847eb00be134a70790d40903388927ff584ec0e621cd5e12b3f023f70308bb0d"
  },
  "kernelspec": {
   "display_name": "Python 3.9.9 64-bit (windows store)",
   "language": "python",
   "name": "python3"
  },
  "language_info": {
   "codemirror_mode": {
    "name": "ipython",
    "version": 3
   },
   "file_extension": ".py",
   "mimetype": "text/x-python",
   "name": "python",
   "nbconvert_exporter": "python",
   "pygments_lexer": "ipython3",
   "version": "3.9.9"
  },
  "orig_nbformat": 4
 },
 "nbformat": 4,
 "nbformat_minor": 2
}
